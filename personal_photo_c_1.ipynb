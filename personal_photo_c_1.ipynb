{
 "cells": [
  {
   "cell_type": "code",
   "execution_count": 1,
   "metadata": {
    "colab": {
     "base_uri": "https://localhost:8080/"
    },
    "id": "AVqtjBLl90Ya",
    "outputId": "0df5c3a5-b311-4dc1-e568-18eef02471f4"
   },
   "outputs": [],
   "source": [
    "# Loading Libraries\n",
    "###### NOTE ##### Tensorflow in Google Colab is implemented\n",
    "#--------------------------------\n",
    "import tensorflow as tf\n",
    "from tensorflow import keras\n",
    "from tensorflow.keras import models\n",
    "from tensorflow.keras import layers\n",
    "from tensorflow.keras.models import Sequential\n",
    "from tensorflow.keras.layers import Dense, Dropout, LSTM, BatchNormalization\n",
    "from tensorflow.keras.callbacks import ModelCheckpoint\n",
    "from tensorflow.keras import layers\n",
    "from tensorflow.keras.preprocessing.image import ImageDataGenerator\n",
    "import tensorflow.keras.optimizers\n",
    "#--------------------------------\n",
    "import numpy as np\n",
    "#--------------------------------\n",
    "import matplotlib.pyplot as plt\n",
    "#--------------------------------\n",
    "import os\n",
    "import cv2\n",
    "import glob\n",
    "#--------------------------------\n",
    "from skimage.transform import resize\n",
    "import urllib.request\n",
    "#--------------------------------\n",
    "###### NOTE ##### If you use Colab\n",
    "#--------------------------------\n",
    "#from google.colab import drive\n",
    "#drive.mount('/content/drive')"
   ]
  },
  {
   "cell_type": "code",
   "execution_count": 2,
   "metadata": {},
   "outputs": [],
   "source": [
    "###### NOTE ##### If the data is packaged need to process."
   ]
  },
  {
   "cell_type": "code",
   "execution_count": 8,
   "metadata": {
    "colab": {
     "base_uri": "https://localhost:8080/"
    },
    "id": "gmVODbswuLt4",
    "outputId": "090976d1-f393-431d-eaea-bf25a38d7d26"
   },
   "outputs": [
    {
     "name": "stdout",
     "output_type": "stream",
     "text": [
      "Found 2000 images belonging to 5 classes.\n",
      "Found 499 images belonging to 5 classes.\n"
     ]
    }
   ],
   "source": [
    "# Data preprocessing\n",
    "#--------------------------------\n",
    "###### NOTE ##### Change PATH(base_dir) to your choice!\n",
    "base_dir = r\"C:\\BRAINSTER\\DATA\\final_data\"\n",
    "#--------------------------------\n",
    "# Data augmentation\n",
    "#--------------------------------\n",
    "train_datagen = ImageDataGenerator(\n",
    "    rescale=1./255,\n",
    "    validation_split=0.2,\n",
    "    rotation_range=50,\n",
    "    width_shift_range=0.2,\n",
    "    height_shift_range=0.2,\n",
    "    shear_range=0.2,\n",
    "    zoom_range=0.2,\n",
    "    horizontal_flip=True,\n",
    "    fill_mode='nearest')\n",
    "\n",
    "###### NOTE ##### The validation data should not be augmented!\n",
    "###### NOTE ##### Target size need to be set to Pretrained model.\n",
    "\n",
    "val_datagen = ImageDataGenerator(\n",
    "    rescale=1./255,\n",
    "    validation_split=0.2)\n",
    "\n",
    "train_generator = train_datagen.flow_from_directory(\n",
    "    base_dir,\n",
    "    subset='training',\n",
    "    target_size=(224, 224),\n",
    "    seed=0,\n",
    "    batch_size=50,\n",
    "    class_mode='categorical')\n",
    "\n",
    "validation_generator = val_datagen.flow_from_directory(\n",
    "    base_dir,\n",
    "    subset='validation',\n",
    "    target_size=(224, 224),\n",
    "    seed=0,\n",
    "    batch_size=50,\n",
    "    class_mode='categorical')"
   ]
  },
  {
   "cell_type": "code",
   "execution_count": 4,
   "metadata": {
    "colab": {
     "base_uri": "https://localhost:8080/"
    },
    "id": "StGehx4NIVdu",
    "outputId": "c7306008-c95f-4169-ced8-43b6ac742f88"
   },
   "outputs": [],
   "source": [
    "# Transfer Learning part, use MobileNet pretrained model\n",
    "#--------------------------------\n",
    "\n",
    "from tensorflow.keras.applications.mobilenet import MobileNet\n",
    "\n",
    "base_mn = MobileNet(\n",
    "    weights='imagenet',\n",
    "    include_top=False,\n",
    "    input_shape=(224, 224, 3))\n",
    "\n",
    "base_mn.trainable = False"
   ]
  },
  {
   "cell_type": "code",
   "execution_count": 9,
   "metadata": {
    "id": "3h4Uf7UsiIqc"
   },
   "outputs": [],
   "source": [
    "# Model architecture\n",
    "#--------------------------------\n",
    "model_mn = models.Sequential()\n",
    "#model_mn.add(layers.InputLayer(input_shape=(224,224,3)))\n",
    "model_mn.add(base_mn)\n",
    "model_mn.add(layers.Flatten())\n",
    "model_mn.add(layers.Dense(256, activation='relu'))\n",
    "model_mn.add(layers.Dense(5, activation='softmax'))\n",
    "\n",
    "callback = ModelCheckpoint('model_mn.pt',\n",
    "                            monitor='val_acc',\n",
    "                            save_best_only = True,\n",
    "                            mode='max',\n",
    "                            verbose=2)\n",
    "callback_list = [callback]\n",
    "\n",
    "model_mn.compile(loss='categorical_crossentropy',\n",
    "              optimizer=\"sgd\",\n",
    "              metrics=['acc'])"
   ]
  },
  {
   "cell_type": "code",
   "execution_count": 10,
   "metadata": {
    "colab": {
     "base_uri": "https://localhost:8080/",
     "height": 408
    },
    "id": "DOY1jd0nog1r",
    "outputId": "d0f1e65e-0cf3-4c63-d0a2-ad84bd2a3cfd"
   },
   "outputs": [
    {
     "name": "stderr",
     "output_type": "stream",
     "text": [
      "C:\\Users\\Dani Acer PC\\AppData\\Roaming\\Python\\Python38\\site-packages\\tensorflow\\python\\keras\\engine\\training.py:1940: UserWarning: `Model.fit_generator` is deprecated and will be removed in a future version. Please use `Model.fit`, which supports generators.\n",
      "  warnings.warn('`Model.fit_generator` is deprecated and '\n"
     ]
    },
    {
     "name": "stdout",
     "output_type": "stream",
     "text": [
      "Epoch 1/10\n",
      "20/20 - 42s - loss: 4.8388 - acc: 0.4540 - val_loss: 1.2930 - val_acc: 0.5551\n",
      "\n",
      "Epoch 00001: val_acc improved from -inf to 0.55511, saving model to model_mn.pt\n"
     ]
    },
    {
     "name": "stderr",
     "output_type": "stream",
     "text": [
      "WARNING:absl:Function `_wrapped_model` contains input name(s) mobilenet_1.00_224_input with unsupported characters which will be renamed to mobilenet_1_00_224_input in the SavedModel.\n",
      "WARNING:absl:Found untraced functions such as conv1_layer_call_and_return_conditional_losses, conv1_layer_call_fn, conv1_relu_layer_call_and_return_conditional_losses, conv1_relu_layer_call_fn, conv_dw_1_relu_layer_call_and_return_conditional_losses while saving (showing 5 of 205). These functions will not be directly callable after loading.\n"
     ]
    },
    {
     "name": "stdout",
     "output_type": "stream",
     "text": [
      "INFO:tensorflow:Assets written to: model_mn.pt\\assets\n"
     ]
    },
    {
     "name": "stderr",
     "output_type": "stream",
     "text": [
      "INFO:tensorflow:Assets written to: model_mn.pt\\assets\n"
     ]
    },
    {
     "name": "stdout",
     "output_type": "stream",
     "text": [
      "Epoch 2/10\n",
      "20/20 - 37s - loss: 0.8091 - acc: 0.6920 - val_loss: 0.8277 - val_acc: 0.6774\n",
      "\n",
      "Epoch 00002: val_acc improved from 0.55511 to 0.67735, saving model to model_mn.pt\n"
     ]
    },
    {
     "name": "stderr",
     "output_type": "stream",
     "text": [
      "WARNING:absl:Function `_wrapped_model` contains input name(s) mobilenet_1.00_224_input with unsupported characters which will be renamed to mobilenet_1_00_224_input in the SavedModel.\n",
      "WARNING:absl:Found untraced functions such as conv1_layer_call_and_return_conditional_losses, conv1_layer_call_fn, conv1_relu_layer_call_and_return_conditional_losses, conv1_relu_layer_call_fn, conv_dw_1_relu_layer_call_and_return_conditional_losses while saving (showing 5 of 205). These functions will not be directly callable after loading.\n"
     ]
    },
    {
     "name": "stdout",
     "output_type": "stream",
     "text": [
      "INFO:tensorflow:Assets written to: model_mn.pt\\assets\n"
     ]
    },
    {
     "name": "stderr",
     "output_type": "stream",
     "text": [
      "INFO:tensorflow:Assets written to: model_mn.pt\\assets\n"
     ]
    },
    {
     "name": "stdout",
     "output_type": "stream",
     "text": [
      "Epoch 3/10\n",
      "20/20 - 38s - loss: 0.6384 - acc: 0.7540 - val_loss: 0.6949 - val_acc: 0.7214\n",
      "\n",
      "Epoch 00003: val_acc improved from 0.67735 to 0.72144, saving model to model_mn.pt\n"
     ]
    },
    {
     "name": "stderr",
     "output_type": "stream",
     "text": [
      "WARNING:absl:Function `_wrapped_model` contains input name(s) mobilenet_1.00_224_input with unsupported characters which will be renamed to mobilenet_1_00_224_input in the SavedModel.\n",
      "WARNING:absl:Found untraced functions such as conv1_layer_call_and_return_conditional_losses, conv1_layer_call_fn, conv1_relu_layer_call_and_return_conditional_losses, conv1_relu_layer_call_fn, conv_dw_1_relu_layer_call_and_return_conditional_losses while saving (showing 5 of 205). These functions will not be directly callable after loading.\n"
     ]
    },
    {
     "name": "stdout",
     "output_type": "stream",
     "text": [
      "INFO:tensorflow:Assets written to: model_mn.pt\\assets\n"
     ]
    },
    {
     "name": "stderr",
     "output_type": "stream",
     "text": [
      "INFO:tensorflow:Assets written to: model_mn.pt\\assets\n"
     ]
    },
    {
     "name": "stdout",
     "output_type": "stream",
     "text": [
      "Epoch 4/10\n",
      "20/20 - 39s - loss: 0.5539 - acc: 0.7830 - val_loss: 0.5550 - val_acc: 0.7836\n",
      "\n",
      "Epoch 00004: val_acc improved from 0.72144 to 0.78357, saving model to model_mn.pt\n"
     ]
    },
    {
     "name": "stderr",
     "output_type": "stream",
     "text": [
      "WARNING:absl:Function `_wrapped_model` contains input name(s) mobilenet_1.00_224_input with unsupported characters which will be renamed to mobilenet_1_00_224_input in the SavedModel.\n",
      "WARNING:absl:Found untraced functions such as conv1_layer_call_and_return_conditional_losses, conv1_layer_call_fn, conv1_relu_layer_call_and_return_conditional_losses, conv1_relu_layer_call_fn, conv_dw_1_relu_layer_call_and_return_conditional_losses while saving (showing 5 of 205). These functions will not be directly callable after loading.\n"
     ]
    },
    {
     "name": "stdout",
     "output_type": "stream",
     "text": [
      "INFO:tensorflow:Assets written to: model_mn.pt\\assets\n"
     ]
    },
    {
     "name": "stderr",
     "output_type": "stream",
     "text": [
      "INFO:tensorflow:Assets written to: model_mn.pt\\assets\n"
     ]
    },
    {
     "name": "stdout",
     "output_type": "stream",
     "text": [
      "Epoch 5/10\n",
      "20/20 - 40s - loss: 0.5374 - acc: 0.7980 - val_loss: 0.5298 - val_acc: 0.8036\n",
      "\n",
      "Epoch 00005: val_acc improved from 0.78357 to 0.80361, saving model to model_mn.pt\n"
     ]
    },
    {
     "name": "stderr",
     "output_type": "stream",
     "text": [
      "WARNING:absl:Function `_wrapped_model` contains input name(s) mobilenet_1.00_224_input with unsupported characters which will be renamed to mobilenet_1_00_224_input in the SavedModel.\n",
      "WARNING:absl:Found untraced functions such as conv1_layer_call_and_return_conditional_losses, conv1_layer_call_fn, conv1_relu_layer_call_and_return_conditional_losses, conv1_relu_layer_call_fn, conv_dw_1_relu_layer_call_and_return_conditional_losses while saving (showing 5 of 205). These functions will not be directly callable after loading.\n"
     ]
    },
    {
     "name": "stdout",
     "output_type": "stream",
     "text": [
      "INFO:tensorflow:Assets written to: model_mn.pt\\assets\n"
     ]
    },
    {
     "name": "stderr",
     "output_type": "stream",
     "text": [
      "INFO:tensorflow:Assets written to: model_mn.pt\\assets\n"
     ]
    },
    {
     "name": "stdout",
     "output_type": "stream",
     "text": [
      "Epoch 6/10\n",
      "20/20 - 40s - loss: 0.5368 - acc: 0.7980 - val_loss: 0.4389 - val_acc: 0.8537\n",
      "\n",
      "Epoch 00006: val_acc improved from 0.80361 to 0.85371, saving model to model_mn.pt\n"
     ]
    },
    {
     "name": "stderr",
     "output_type": "stream",
     "text": [
      "WARNING:absl:Function `_wrapped_model` contains input name(s) mobilenet_1.00_224_input with unsupported characters which will be renamed to mobilenet_1_00_224_input in the SavedModel.\n",
      "WARNING:absl:Found untraced functions such as conv1_layer_call_and_return_conditional_losses, conv1_layer_call_fn, conv1_relu_layer_call_and_return_conditional_losses, conv1_relu_layer_call_fn, conv_dw_1_relu_layer_call_and_return_conditional_losses while saving (showing 5 of 205). These functions will not be directly callable after loading.\n"
     ]
    },
    {
     "name": "stdout",
     "output_type": "stream",
     "text": [
      "INFO:tensorflow:Assets written to: model_mn.pt\\assets\n"
     ]
    },
    {
     "name": "stderr",
     "output_type": "stream",
     "text": [
      "INFO:tensorflow:Assets written to: model_mn.pt\\assets\n"
     ]
    },
    {
     "name": "stdout",
     "output_type": "stream",
     "text": [
      "Epoch 7/10\n",
      "20/20 - 39s - loss: 0.4689 - acc: 0.8230 - val_loss: 0.3993 - val_acc: 0.8677\n",
      "\n",
      "Epoch 00007: val_acc improved from 0.85371 to 0.86774, saving model to model_mn.pt\n"
     ]
    },
    {
     "name": "stderr",
     "output_type": "stream",
     "text": [
      "WARNING:absl:Function `_wrapped_model` contains input name(s) mobilenet_1.00_224_input with unsupported characters which will be renamed to mobilenet_1_00_224_input in the SavedModel.\n",
      "WARNING:absl:Found untraced functions such as conv1_layer_call_and_return_conditional_losses, conv1_layer_call_fn, conv1_relu_layer_call_and_return_conditional_losses, conv1_relu_layer_call_fn, conv_dw_1_relu_layer_call_and_return_conditional_losses while saving (showing 5 of 205). These functions will not be directly callable after loading.\n"
     ]
    },
    {
     "name": "stdout",
     "output_type": "stream",
     "text": [
      "INFO:tensorflow:Assets written to: model_mn.pt\\assets\n"
     ]
    },
    {
     "name": "stderr",
     "output_type": "stream",
     "text": [
      "INFO:tensorflow:Assets written to: model_mn.pt\\assets\n"
     ]
    },
    {
     "name": "stdout",
     "output_type": "stream",
     "text": [
      "Epoch 8/10\n",
      "20/20 - 38s - loss: 0.4298 - acc: 0.8420 - val_loss: 0.3741 - val_acc: 0.8717\n",
      "\n",
      "Epoch 00008: val_acc improved from 0.86774 to 0.87174, saving model to model_mn.pt\n"
     ]
    },
    {
     "name": "stderr",
     "output_type": "stream",
     "text": [
      "WARNING:absl:Function `_wrapped_model` contains input name(s) mobilenet_1.00_224_input with unsupported characters which will be renamed to mobilenet_1_00_224_input in the SavedModel.\n",
      "WARNING:absl:Found untraced functions such as conv1_layer_call_and_return_conditional_losses, conv1_layer_call_fn, conv1_relu_layer_call_and_return_conditional_losses, conv1_relu_layer_call_fn, conv_dw_1_relu_layer_call_and_return_conditional_losses while saving (showing 5 of 205). These functions will not be directly callable after loading.\n"
     ]
    },
    {
     "name": "stdout",
     "output_type": "stream",
     "text": [
      "INFO:tensorflow:Assets written to: model_mn.pt\\assets\n"
     ]
    },
    {
     "name": "stderr",
     "output_type": "stream",
     "text": [
      "INFO:tensorflow:Assets written to: model_mn.pt\\assets\n"
     ]
    },
    {
     "name": "stdout",
     "output_type": "stream",
     "text": [
      "Epoch 9/10\n",
      "20/20 - 39s - loss: 0.4347 - acc: 0.8390 - val_loss: 0.3236 - val_acc: 0.8958\n",
      "\n",
      "Epoch 00009: val_acc improved from 0.87174 to 0.89579, saving model to model_mn.pt\n"
     ]
    },
    {
     "name": "stderr",
     "output_type": "stream",
     "text": [
      "WARNING:absl:Function `_wrapped_model` contains input name(s) mobilenet_1.00_224_input with unsupported characters which will be renamed to mobilenet_1_00_224_input in the SavedModel.\n",
      "WARNING:absl:Found untraced functions such as conv1_layer_call_and_return_conditional_losses, conv1_layer_call_fn, conv1_relu_layer_call_and_return_conditional_losses, conv1_relu_layer_call_fn, conv_dw_1_relu_layer_call_and_return_conditional_losses while saving (showing 5 of 205). These functions will not be directly callable after loading.\n"
     ]
    },
    {
     "name": "stdout",
     "output_type": "stream",
     "text": [
      "INFO:tensorflow:Assets written to: model_mn.pt\\assets\n"
     ]
    },
    {
     "name": "stderr",
     "output_type": "stream",
     "text": [
      "INFO:tensorflow:Assets written to: model_mn.pt\\assets\n"
     ]
    },
    {
     "name": "stdout",
     "output_type": "stream",
     "text": [
      "Epoch 10/10\n",
      "20/20 - 38s - loss: 0.3357 - acc: 0.8720 - val_loss: 0.3186 - val_acc: 0.8878\n",
      "\n",
      "Epoch 00010: val_acc did not improve from 0.89579\n"
     ]
    }
   ],
   "source": [
    "# Model fitting\n",
    "#--------------------------------\n",
    "\n",
    "history = model_mn.fit_generator(\n",
    "      train_generator,\n",
    "      steps_per_epoch=20,\n",
    "      epochs=10,\n",
    "      validation_data=validation_generator,\n",
    "      validation_steps=10,\n",
    "      verbose=2,\n",
    "      callbacks=callback_list)\n",
    "\n",
    "###### NOTE ##### WARNING!!!!!\n",
    "# UserWarning: `Model.fit_generator` is deprecated and will be removed\n",
    "#               in a future version. Please use `Model.fit`, which supports generators.\n",
    "#--------------------------------\n",
    "# WARNING:absl:Function `_wrapped_model` contains input name(s)\n",
    "#         mobilenet_1.00_224_input with unsupported characters which\n",
    "#         will be renamed to mobilenet_1_00_224_input in the SavedModel."
   ]
  },
  {
   "cell_type": "code",
   "execution_count": null,
   "metadata": {
    "colab": {
     "base_uri": "https://localhost:8080/",
     "height": 545
    },
    "id": "SFVYen2w4q5u",
    "outputId": "55995d79-f97e-4960-8e27-b91d4b09932e",
    "scrolled": false
   },
   "outputs": [],
   "source": [
    "# Accuracy history\n",
    "#--------------------------------\n",
    "acc = history.history['acc']\n",
    "val_acc = history.history['val_acc']\n",
    "loss = history.history['loss']\n",
    "val_loss = history.history['val_loss']\n",
    "\n",
    "epochs = range(len(acc))\n",
    "\n",
    "plt.plot(epochs, acc, label='Training acc.')\n",
    "plt.plot(epochs, val_acc, label='Validation acc.')\n",
    "plt.title('Training and validation accuracy - Mobilenet')\n",
    "plt.legend()\n",
    "\n",
    "plt.figure()\n",
    "\n",
    "plt.plot(epochs, loss, label='Training loss')\n",
    "plt.plot(epochs, val_loss,label='Validation loss')\n",
    "plt.title('Training and validation loss - Mobilenet')\n",
    "plt.legend()\n",
    "\n",
    "plt.show()"
   ]
  },
  {
   "cell_type": "code",
   "execution_count": null,
   "metadata": {},
   "outputs": [],
   "source": [
    "# Loading saved best model\n",
    "#--------------------------------\n",
    "\n",
    "\n",
    "#### MISSING"
   ]
  },
  {
   "cell_type": "code",
   "execution_count": null,
   "metadata": {},
   "outputs": [],
   "source": [
    "# #Import model, do not need to fit\n",
    "\n",
    "# from keras.models import load_model\n",
    "\n",
    "# model_mn.load_weights(r\"C:\\Users\\Dani Acer PC\\_Data_Science_Bootcamp\\))) Final Project Working directory\\FINAL-codes\\from Sabina\\model_mn.pt\\saved_model.pb\")\n",
    "\n",
    "\n",
    "# # ValueError: Unable to load weights saved in HDF5 format into a\n",
    "# #     subclassed Model which has not created its variables yet.\n",
    "# #     Call the Model first, then load the weights."
   ]
  },
  {
   "cell_type": "code",
   "execution_count": null,
   "metadata": {},
   "outputs": [],
   "source": [
    "# Classes added manually\n",
    "#--------------------------------\n",
    "\n",
    "classification = ['Indoor Selfie', 'Outdoor Selfie','Indoor Pose','Outdoor Pose','Photo Without Human']"
   ]
  },
  {
   "cell_type": "code",
   "execution_count": null,
   "metadata": {},
   "outputs": [],
   "source": [
    "# Manually testing an image from URL\n",
    "#--------------------------------\n",
    "###### NOTE ##### Change URL to your choice!\n",
    "url = \"https://static.hub.91mobiles.com/wp-content/uploads/2016/08/Indoor-nexus-6p.jpg\"\n",
    "#--------------------------------\n",
    "resp = urllib.request.urlopen(url)\n",
    "image = np.asarray(bytearray(resp.read()), dtype=\"uint8\")\n",
    "image = cv2.imdecode(image, cv2.IMREAD_COLOR)\n",
    "image = cv2.cvtColor(image, cv2.COLOR_BGR2RGB)\n",
    "image_preprocessed  = cv2.resize(image, (224,224))\n",
    "\n",
    "plt.axis(\"off\") \n",
    "img = plt.imshow(image_preprocessed)\n",
    "\n",
    "image_preprocessed = np.expand_dims(image_preprocessed, axis=0)/255\n",
    "predictions = model_mn.predict(image_preprocessed)\n",
    "\n",
    "\n",
    "###### NOTE ##### Sort the predictions from least to greatest\n",
    "\n",
    "class_index = [0,1,2,3,4]\n",
    "\n",
    "for i in range (5):\n",
    "  for j in range (5):\n",
    "    if predictions[0][class_index[i]] > predictions[0][class_index[j]]:\n",
    "      temp = class_index[i]\n",
    "      class_index[i] = class_index[j]\n",
    "      class_index[j] = temp\n",
    "\n",
    "\n",
    "###### NOTE #####  Print the predictions in order\n",
    "\n",
    "for i in range(5):\n",
    "  print(classification[class_index[i]], \":\", round( predictions[0][class_index[i]] * 100), \"%\")"
   ]
  },
  {
   "cell_type": "code",
   "execution_count": null,
   "metadata": {},
   "outputs": [],
   "source": []
  }
 ],
 "metadata": {
  "accelerator": "GPU",
  "colab": {
   "collapsed_sections": [],
   "name": "sabina_base.ipynb",
   "provenance": []
  },
  "kernelspec": {
   "display_name": "Python 3",
   "language": "python",
   "name": "python3"
  },
  "language_info": {
   "codemirror_mode": {
    "name": "ipython",
    "version": 3
   },
   "file_extension": ".py",
   "mimetype": "text/x-python",
   "name": "python",
   "nbconvert_exporter": "python",
   "pygments_lexer": "ipython3",
   "version": "3.8.3"
  }
 },
 "nbformat": 4,
 "nbformat_minor": 1
}
